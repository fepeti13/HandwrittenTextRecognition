{
 "cells": [
  {
   "cell_type": "markdown",
   "metadata": {},
   "source": [
    "Converting csv files to a sheet"
   ]
  },
  {
   "cell_type": "code",
   "execution_count": 8,
   "metadata": {},
   "outputs": [],
   "source": [
    "import os\n",
    "import re\n",
    "import pandas as pd\n",
    "from openpyxl import load_workbook, Workbook"
   ]
  },
  {
   "cell_type": "code",
   "execution_count": null,
   "metadata": {},
   "outputs": [],
   "source": [
    "column_width_A = 1.5\n",
    "column_width_B = 3\n",
    "\n",
    "def fill_empty_sheet(sheet):\n",
    "    sheet['A1'] = \"Nev:\"\n",
    "    sheet['A2'] = \"Születési hely:\"\n",
    "    sheet['A3'] = \"Születési idő:\"\n",
    "\n",
    "    sheet.column_dimensions['A'].width = column_width_A\n",
    "    sheet.cloumn_dimensions['B'].width = column_width_B"
   ]
  },
  {
   "cell_type": "code",
   "execution_count": 18,
   "metadata": {},
   "outputs": [],
   "source": [
    "def csv_to_excel(csv_file, excel_file, four_digits):\n",
    "\n",
    "    if os.path.exists(excel_file):\n",
    "        wb = load_workbook(excel_file)\n",
    "    else:\n",
    "        wb = Workbook()\n",
    "\n",
    "    if four_digits not in wb.sheetnames:\n",
    "        ws = wb.create_sheet(four_digits)\n",
    "        fill_empty_sheet(ws)\n",
    "    else:\n",
    "        ws = wb[four_digits]\n",
    "\n",
    "    ws['B7'].value = \"Hi, from spreadsheet\"\n",
    "\n",
    "    wb.save(excel_file)"
   ]
  },
  {
   "cell_type": "code",
   "execution_count": 21,
   "metadata": {},
   "outputs": [],
   "source": [
    "folder = \"/home/fepeti13/Desktop/Research/Cropped\"\n",
    "excel_file = \"/home/fepeti13/Desktop/Research/Cropped/excel_test.xlsx\"\n",
    "\n",
    "pattern = re.compile(r\"IMG_(\\d{4})_b1.csv\", re.IGNORECASE)\n",
    "for filename in os.listdir(folder):\n",
    "    match = pattern.search(filename)\n",
    "    if match:\n",
    "        four_digits = match.group(1)\n",
    "\n",
    "        csv_to_excel(filename, excel_file, four_digits)\n"
   ]
  }
 ],
 "metadata": {
  "kernelspec": {
   "display_name": "Python 3",
   "language": "python",
   "name": "python3"
  },
  "language_info": {
   "codemirror_mode": {
    "name": "ipython",
    "version": 3
   },
   "file_extension": ".py",
   "mimetype": "text/x-python",
   "name": "python",
   "nbconvert_exporter": "python",
   "pygments_lexer": "ipython3",
   "version": "3.10.12"
  }
 },
 "nbformat": 4,
 "nbformat_minor": 2
}
