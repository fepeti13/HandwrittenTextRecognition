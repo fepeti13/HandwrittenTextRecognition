{
 "cells": [
  {
   "cell_type": "code",
   "execution_count": 1,
   "metadata": {},
   "outputs": [],
   "source": [
    "from PIL import Image\n",
    "import cv2\n",
    "import pytesseract\n",
    "import matplotlib.pyplot as plt\n",
    "import easyocr"
   ]
  },
  {
   "cell_type": "code",
   "execution_count": 28,
   "metadata": {},
   "outputs": [
    {
     "name": "stdout",
     "output_type": "stream",
     "text": [
      "Defaulting to user installation because normal site-packages is not writeable\n",
      "Requirement already satisfied: Pillow in /home/fepeti13/.local/lib/python3.10/site-packages (11.0.0)\n"
     ]
    }
   ],
   "source": [
    "!pip install --upgrade Pillow\n",
    "\n"
   ]
  },
  {
   "cell_type": "code",
   "execution_count": 2,
   "metadata": {},
   "outputs": [],
   "source": [
    "# Load the image\n",
    "image_path = 'IMG_5762.JPG'\n",
    "image = Image.open(image_path)\n",
    "cvimage = cv2.imread(image_path)"
   ]
  },
  {
   "cell_type": "code",
   "execution_count": 3,
   "metadata": {},
   "outputs": [],
   "source": [
    "# Define the coordinates for the rectangular region\n",
    "# (left, upper, right, lower)\n",
    "left = 400\n",
    "upper = 250\n",
    "right = 2000\n",
    "lower = 450"
   ]
  },
  {
   "cell_type": "code",
   "execution_count": 4,
   "metadata": {},
   "outputs": [],
   "source": [
    "# Crop the image\n",
    "cropped_rectangle = image.crop((left, upper, right, lower))\n",
    "\n",
    "# Save or display the cropped rectangular region\n",
    "cropped_rectangle.save('cropped_rectangle.jpg')"
   ]
  },
  {
   "cell_type": "code",
   "execution_count": 5,
   "metadata": {},
   "outputs": [
    {
     "data": {
      "image/png": "[encoded data removed]",
      "text/plain": [
       "<Figure size 640x480 with 1 Axes>"
      ]
     },
     "metadata": {},
     "output_type": "display_data"
    }
   ],
   "source": [
    "cropped = cvimage[upper:lower, left:right]\n",
    "\n",
    "#grayscaling\n",
    "gray_cropped = cv2.cvtColor(cropped, cv2.COLOR_BGR2GRAY)\n",
    "\n",
    "#thresholding\n",
    "_, thresh_gray_cropped = cv2.threshold(gray_cropped, 150, 255, cv2.THRESH_BINARY + cv2.THRESH_OTSU)\n",
    "\n",
    "plt.imshow(thresh_gray_cropped, cmap='gray')\n",
    "plt.axis('off')  # Hide axis labels\n",
    "plt.title('Grayscale Cropped Image')\n",
    "plt.show()"
   ]
  },
  {
   "cell_type": "code",
   "execution_count": 6,
   "metadata": {},
   "outputs": [
    {
     "name": "stdout",
     "output_type": "stream",
     "text": [
      "Extracted Text from Handwriting:\n",
      "| GY\n",
      "/ (ty oo Oy\n",
      "\f\n"
     ]
    }
   ],
   "source": [
    "#Tesseract - didn't work\n",
    "\n",
    "# Use Tesseract to perform OCR on the thresholded ROI\n",
    "text = pytesseract.image_to_string(thresh_gray_cropped, config='--psm 1')\n",
    "\n",
    "# Print the extracted text\n",
    "print(\"Extracted Text from Handwriting:\")\n",
    "print(text)"
   ]
  },
  {
   "cell_type": "code",
   "execution_count": 16,
   "metadata": {},
   "outputs": [
    {
     "name": "stdout",
     "output_type": "stream",
     "text": [
      "Detected Text: We Stact With Good (Confidence: 0.37)\n",
      "Detected Text: Because (Confidence: 0.93)\n",
      "Detected Text: all businesses (Confidence: 0.93)\n",
      "Detected Text: should (Confidence: 1.00)\n",
      "Detected Text: be doinq (Confidence: 0.51)\n",
      "Detected Text: Somathing (Confidence: 0.48)\n",
      "Detected Text: 9od (Confidence: 0.23)\n"
     ]
    }
   ],
   "source": [
    "reader = easyocr.Reader(['en'])\n",
    "results = reader.readtext('test1.jpg')\n",
    "\n",
    "for (bbox, text, prob) in results:\n",
    "    print(f\"Detected Text: {text} (Confidence: {prob:.2f})\")"
   ]
  },
  {
   "cell_type": "code",
   "execution_count": null,
   "metadata": {},
   "outputs": [],
   "source": []
  },
  {
   "cell_type": "code",
   "execution_count": null,
   "metadata": {},
   "outputs": [],
   "source": []
  }
 ],
 "metadata": {
  "kernelspec": {
   "display_name": "Python 3",
   "language": "python",
   "name": "python3"
  },
  "language_info": {
   "codemirror_mode": {
    "name": "ipython",
    "version": 3
   },
   "file_extension": ".py",
   "mimetype": "text/x-python",
   "name": "python",
   "nbconvert_exporter": "python",
   "pygments_lexer": "ipython3",
   "version": "3.10.12"
  }
 },
 "nbformat": 4,
 "nbformat_minor": 2
}
